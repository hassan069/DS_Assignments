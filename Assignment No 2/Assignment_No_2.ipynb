{
  "cells": [
    {
      "cell_type": "code",
      "source": [
        "# September 30,2023\n",
        "# CSC461 – Assignment2 – Regular Expressions\n",
        "# Hassan Mehmood\n",
        "# FA21-BSE-069\n",
        "# Read the file (example-text.txt) and write regular expressions to accomplish the following tasks."
      ],
      "metadata": {
        "id": "V4aBuxpfunHB"
      },
      "execution_count": null,
      "outputs": []
    },
    {
      "cell_type": "code",
      "source": [
        "import re\n",
        "import pandas as pd"
      ],
      "metadata": {
        "id": "WuHIXyTiHNzL"
      },
      "execution_count": 17,
      "outputs": []
    },
    {
      "cell_type": "code",
      "source": [
        "#import Google Drive and mount the entire drive\n",
        "\n",
        "from google.colab import drive\n",
        "drive.mount('/content/drive')"
      ],
      "metadata": {
        "colab": {
          "base_uri": "https://localhost:8080/"
        },
        "id": "-c6_Fq-jHSJo",
        "outputId": "9bb917a2-8a65-48c5-e437-187cfe303951"
      },
      "execution_count": 18,
      "outputs": [
        {
          "output_type": "stream",
          "name": "stdout",
          "text": [
            "Drive already mounted at /content/drive; to attempt to forcibly remount, call drive.mount(\"/content/drive\", force_remount=True).\n"
          ]
        }
      ]
    },
    {
      "cell_type": "code",
      "source": [
        "# It reads the file from drive\n",
        "\n",
        "with open('/content/drive/My Drive/example-text.txt', 'r') as f:\n",
        "    text = f.read()\n",
        "print(text)"
      ],
      "metadata": {
        "id": "B8SzAqfoIEVp"
      },
      "execution_count": null,
      "outputs": []
    },
    {
      "cell_type": "code",
      "source": [
        "# Extract list of all words.\n",
        "\n",
        "words = re.findall(r'\\b\\w+\\b', text)\n",
        "print(words)"
      ],
      "metadata": {
        "id": "ektbTxSyf3Tr"
      },
      "execution_count": null,
      "outputs": []
    },
    {
      "cell_type": "code",
      "source": [
        "# Extract list of all words starting with a capital letter.\n",
        "\n",
        "words = re.findall(r'\\b[A-Z]\\w+\\b', text)\n",
        "print(words)"
      ],
      "metadata": {
        "id": "Y4UtTYIulDbw"
      },
      "execution_count": null,
      "outputs": []
    },
    {
      "cell_type": "code",
      "source": [
        "# Extract list of all words of length 5.\n",
        "\n",
        "words = re.findall(r'\\b\\w{5}\\b', text)\n",
        "print(words)"
      ],
      "metadata": {
        "id": "NE1KPHTKlsSo"
      },
      "execution_count": null,
      "outputs": []
    },
    {
      "cell_type": "code",
      "source": [
        "# Task 4: Extract list of all words inside double quotes\n",
        "\n",
        "words = re.findall(r'\"([^\"]*)\"', text)\n",
        "print(words)"
      ],
      "metadata": {
        "id": "2BMiF7MVmQ45"
      },
      "execution_count": null,
      "outputs": []
    },
    {
      "cell_type": "code",
      "source": [
        "# Extract list of all vowels.\n",
        "\n",
        "words = re.findall(r'[aeiouAEIOU]', text)\n",
        "print(words)"
      ],
      "metadata": {
        "id": "RZJbCOxDnW1E"
      },
      "execution_count": null,
      "outputs": []
    },
    {
      "cell_type": "code",
      "source": [
        "# Extract list of 3 letter words ending with letter ‘e’.\n",
        "\n",
        "words = re.findall(r'\\b\\w{2}e\\b', text)\n",
        "print(words)"
      ],
      "metadata": {
        "id": "OsBnWoItntZg"
      },
      "execution_count": null,
      "outputs": []
    },
    {
      "cell_type": "code",
      "source": [
        "# Extract list of all words starting and ending with letter ‘b’.\n",
        "\n",
        "words = re.findall(r'\\b[b]\\w*[b]\\b', text)\n",
        "print(words)"
      ],
      "metadata": {
        "colab": {
          "base_uri": "https://localhost:8080/"
        },
        "id": "v2AIirk7oiq5",
        "outputId": "626e7fcb-89c9-4118-e618-b6285fe00b94"
      },
      "execution_count": 40,
      "outputs": [
        {
          "output_type": "stream",
          "name": "stdout",
          "text": [
            "[]\n"
          ]
        }
      ]
    },
    {
      "cell_type": "code",
      "source": [
        "# Remove all the punctuation marks from the text.\n",
        "\n",
        "words = re.sub(r'[^\\w\\s]', '' , text)\n",
        "print(words)"
      ],
      "metadata": {
        "id": "SKzwubcipOjw"
      },
      "execution_count": null,
      "outputs": []
    },
    {
      "cell_type": "code",
      "source": [
        "# Replace all words ending ‘n't’ to their full form ‘not’.\n",
        "\n",
        "words = re.sub(r'\\b(\\w*)n\\'t\\b', r'\\1 not' , text)\n",
        "print(words)"
      ],
      "metadata": {
        "id": "hzroaQT5qSRQ"
      },
      "execution_count": null,
      "outputs": []
    },
    {
      "cell_type": "code",
      "source": [
        "# Replace all the new lines with a single space.\n",
        "\n",
        "words = re.sub(r'\\n', ' ' , text)\n",
        "print(words)"
      ],
      "metadata": {
        "id": "Lcfo5EHPt5Px"
      },
      "execution_count": null,
      "outputs": []
    }
  ],
  "metadata": {
    "colab": {
      "provenance": []
    },
    "kernelspec": {
      "display_name": "Python 3",
      "name": "python3"
    },
    "language_info": {
      "name": "python"
    }
  },
  "nbformat": 4,
  "nbformat_minor": 0
}