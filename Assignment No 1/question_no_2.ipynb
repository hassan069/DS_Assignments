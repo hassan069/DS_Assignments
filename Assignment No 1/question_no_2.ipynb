{
  "nbformat": 4,
  "nbformat_minor": 0,
  "metadata": {
    "colab": {
      "provenance": []
    },
    "kernelspec": {
      "name": "python3",
      "display_name": "Python 3"
    },
    "language_info": {
      "name": "python"
    }
  },
  "cells": [
    {
      "cell_type": "code",
      "execution_count": 112,
      "metadata": {
        "id": "NwHI-COSKKge"
      },
      "outputs": [],
      "source": [
        "# 18-09-2023\n",
        "# CSC461 – Assignment1 – Web Scraping\n",
        "# Hassan Mehmood\n",
        "# FA21-BSE-069\n",
        "# Your job is to write a web scraper in Python (preferably a Jupyter Notebook) to extract the below mentioned\n",
        "# information.\n",
        "# 1. From the ‘timeanddate’ website, find out who you share your birthdate with?\n",
        "# 2. From the ‘britannica’ website, find out which important event(s) happened on your birthdate?\n",
        "import requests\n",
        "import time\n",
        "import json\n",
        "import pandas\n",
        "from bs4 import BeautifulSoup"
      ]
    },
    {
      "cell_type": "code",
      "execution_count": 113,
      "metadata": {
        "id": "RF57BpUtLcCl"
      },
      "outputs": [],
      "source": [
        "\n",
        "response = requests.get('https://www.timeanddate.com/on-this-day/')\n",
        "root=BeautifulSoup(response.content,'html5lib')\n",
        "main_div=root.find ('div',attrs={'class':\"otd-life__block\"})\n",
        "inside_ul=main_div.find ('ul',attrs={'class':\"list--big\"})\n",
        "inside_li=inside_ul.findAll ('li')\n",
        "\n",
        "main_data1 = []\n",
        "\n",
        "for li in inside_li:\n",
        "    inside_h3 = li.find('h3', attrs={'class': \"otd-title\"})\n",
        "    strong_tag = li.find('strong')\n",
        "    strong_tag.decompose()\n",
        "    data=inside_h3.text\n",
        "    main_data1.append(data)"
      ]
    },
    {
      "cell_type": "code",
      "source": [
        "\n",
        "response = requests.get('https://www.britannica.com/on-this-day')\n",
        "root=BeautifulSoup(response.content,'html5lib')\n",
        "main_div=root.find ('div',attrs={'class':\"otd-featured-event col-100 col-sm-50\"})\n",
        "inside_div=main_div.find ('div',attrs={'class':\"card-body\"})\n",
        "inside_div1=inside_div.find ('div',attrs={'class':\"title font-18 font-weight-bold mb-10\"}).text\n",
        "main_div1=root.find ('div',attrs={'class':\"border-top py-30\"})\n",
        "main_div2=main_div1.find ('div',attrs={'class':\"grid\"})\n",
        "main_div3=main_div2.find ('div',attrs={'class':\"col-100 col-sm\"})\n",
        "main_div4=main_div3.findAll ('div',attrs={'class':\"md-history-event card d-flex mb-20 flex-column flex-sm-row\"})\n",
        "\n",
        "main_data = []\n",
        "\n",
        "for d in main_div4:\n",
        "    main = d.find('div', attrs={'class': \"card-body font-serif\"}).text.strip()\n",
        "    main_data.append(main)"
      ],
      "metadata": {
        "id": "PP-PTR5uzFNw"
      },
      "execution_count": 114,
      "outputs": []
    },
    {
      "cell_type": "code",
      "source": [
        "with open('Birthday.txt', 'w') as file:\n",
        "\n",
        "    file.write(\"From TimeAndDate Website:\\n\\n\")\n",
        "    for text_1 in main_data1:\n",
        "        file.write(text_1 + '\\n')\n",
        "\n",
        "    file.write(\"\\nFrom Britannica Website:\\n\\n\")\n",
        "    for text in main_data:\n",
        "        file.write(text + '\\n')\n"
      ],
      "metadata": {
        "id": "Fk9kX9geG0r5"
      },
      "execution_count": 116,
      "outputs": []
    }
  ]
}