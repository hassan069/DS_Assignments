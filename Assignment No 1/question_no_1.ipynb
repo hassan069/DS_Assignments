{
  "cells": [
    {
      "cell_type": "code",
      "execution_count": 1,
      "metadata": {
        "id": "NwHI-COSKKge"
      },
      "outputs": [],
      "source": [
        "# 18-09-2023\n",
        "# CSC461 – Assignment1 – Web Scraping\n",
        "# Hassan Mehmood\n",
        "# FA21-BSE-069\n",
        "# Create a web scraper in Python (preferably a Jupyter Notebook) to extract the ‘title’ and ‘rating’ for 5 of your\n",
        "# most favorite movies from the IMDB website.\n",
        "import requests\n",
        "import time\n",
        "import json\n",
        "import pandas\n",
        "from bs4 import BeautifulSoup"
      ]
    },
    {
      "cell_type": "code",
      "execution_count": 2,
      "metadata": {
        "id": "RF57BpUtLcCl"
      },
      "outputs": [],
      "source": [
        "h = {\n",
        "    'User-Agent': 'Mozilla/5.0 (Windows NT 10.0; Win64; x64) AppleWebKit/537.36 (KHTML, like Gecko) Chrome/94.0.4606.71 Safari/537.36'\n",
        "}\n",
        "\n",
        "movie=[\"https://www.imdb.com/title/tt11737520/?ref_=hm_top_tt_i_1\",\"https://www.imdb.com/title/tt1830379/?ref_=hm_top_tt_i_4\",\n",
        "       \"https://www.imdb.com/title/tt7462410/?ref_=hm_top_tt_i_6\",\"https://www.imdb.com/title/tt0241527/?ref_=nv_sr_srsg_3_tt_1_nm_7_q_harr\",\n",
        "       \"https://www.imdb.com/title/tt4139928/?ref_=nv_sr_srsg_0_tt_6_nm_2_q_maula\"]\n",
        "data=[]\n",
        "\n",
        "for m in movie:\n",
        "  response = requests.get(m, headers=h)\n",
        "  root=BeautifulSoup(response.content,'html5lib')\n",
        "  title=root.find ('span',attrs={'class':\"sc-afe43def-1 fDTGTb\"}).text\n",
        "  ratings=root.find ('span',attrs={'class':\"sc-bde20123-1 iZlgcd\"}).text\n",
        "  data.append({\n",
        "      'Name': title,\n",
        "      'Rating' : ratings\n",
        "  })\n",
        "  time.sleep(1)\n"
      ]
    },
    {
      "cell_type": "code",
      "execution_count": 4,
      "metadata": {
        "id": "zfjuuRYPj1U8"
      },
      "outputs": [],
      "source": [
        "write=pandas.DataFrame(data)\n",
        "write.to_excel(\"movies.xlsx\",index=False)"
      ]
    }
  ],
  "metadata": {
    "colab": {
      "provenance": []
    },
    "kernelspec": {
      "display_name": "Python 3",
      "name": "python3"
    },
    "language_info": {
      "name": "python",
      "version": "3.11.4"
    }
  },
  "nbformat": 4,
  "nbformat_minor": 0
}
